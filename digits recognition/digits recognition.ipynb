{
 "cells": [
  {
   "cell_type": "markdown",
   "metadata": {},
   "source": [
    "**This is a CNN built with keras API (Tensorflow backend) for digits recognition trained on MNIST dataset.**  \n",
    "**Powered by GTX1050, it can achieve 99+% of accuracy with 30 epochs in minutes.**  \n"
   ]
  },
  {
   "cell_type": "code",
   "execution_count": 1,
   "metadata": {},
   "outputs": [
    {
     "name": "stderr",
     "output_type": "stream",
     "text": [
      "Using TensorFlow backend.\n"
     ]
    }
   ],
   "source": [
    "import pandas as pd\n",
    "import numpy as np\n",
    "import matplotlib.pyplot as plt\n",
    "import matplotlib.image as mpimg\n",
    "import seaborn as sns\n",
    "%matplotlib inline\n",
    "\n",
    "np.random.seed(2)\n",
    "\n",
    "from sklearn.model_selection import train_test_split\n",
    "from sklearn.metrics import confusion_matrix\n",
    "import itertools\n",
    "\n",
    "from keras.utils.np_utils import to_categorical # convert to one-hot-encoding\n",
    "from keras.models import Sequential\n",
    "from keras.layers import Dense, Dropout, Flatten, Conv2D, MaxPool2D\n",
    "from keras.optimizers import RMSprop\n",
    "from keras.preprocessing.image import ImageDataGenerator\n",
    "from keras.callbacks import ReduceLROnPlateau\n",
    "\n",
    "\n",
    "sns.set(style='white', context='notebook', palette='deep')"
   ]
  },
  {
   "cell_type": "markdown",
   "metadata": {},
   "source": [
    "# 1. Overview\n",
    "## 1.1 load the data"
   ]
  },
  {
   "cell_type": "code",
   "execution_count": 2,
   "metadata": {},
   "outputs": [],
   "source": [
    "train = pd.read_csv(\"C:/Users/xiang/Desktop/train.csv\")\n",
    "test = pd.read_csv(\"C:/Users/xiang/Desktop/test.csv\")"
   ]
  },
  {
   "cell_type": "code",
   "execution_count": 3,
   "metadata": {},
   "outputs": [
    {
     "data": {
      "text/html": [
       "<div>\n",
       "<style scoped>\n",
       "    .dataframe tbody tr th:only-of-type {\n",
       "        vertical-align: middle;\n",
       "    }\n",
       "\n",
       "    .dataframe tbody tr th {\n",
       "        vertical-align: top;\n",
       "    }\n",
       "\n",
       "    .dataframe thead th {\n",
       "        text-align: right;\n",
       "    }\n",
       "</style>\n",
       "<table border=\"1\" class=\"dataframe\">\n",
       "  <thead>\n",
       "    <tr style=\"text-align: right;\">\n",
       "      <th></th>\n",
       "      <th>label</th>\n",
       "      <th>pixel0</th>\n",
       "      <th>pixel1</th>\n",
       "      <th>pixel2</th>\n",
       "      <th>pixel3</th>\n",
       "      <th>pixel4</th>\n",
       "      <th>pixel5</th>\n",
       "      <th>pixel6</th>\n",
       "      <th>pixel7</th>\n",
       "      <th>pixel8</th>\n",
       "      <th>...</th>\n",
       "      <th>pixel774</th>\n",
       "      <th>pixel775</th>\n",
       "      <th>pixel776</th>\n",
       "      <th>pixel777</th>\n",
       "      <th>pixel778</th>\n",
       "      <th>pixel779</th>\n",
       "      <th>pixel780</th>\n",
       "      <th>pixel781</th>\n",
       "      <th>pixel782</th>\n",
       "      <th>pixel783</th>\n",
       "    </tr>\n",
       "  </thead>\n",
       "  <tbody>\n",
       "    <tr>\n",
       "      <th>0</th>\n",
       "      <td>1</td>\n",
       "      <td>0</td>\n",
       "      <td>0</td>\n",
       "      <td>0</td>\n",
       "      <td>0</td>\n",
       "      <td>0</td>\n",
       "      <td>0</td>\n",
       "      <td>0</td>\n",
       "      <td>0</td>\n",
       "      <td>0</td>\n",
       "      <td>...</td>\n",
       "      <td>0</td>\n",
       "      <td>0</td>\n",
       "      <td>0</td>\n",
       "      <td>0</td>\n",
       "      <td>0</td>\n",
       "      <td>0</td>\n",
       "      <td>0</td>\n",
       "      <td>0</td>\n",
       "      <td>0</td>\n",
       "      <td>0</td>\n",
       "    </tr>\n",
       "    <tr>\n",
       "      <th>1</th>\n",
       "      <td>0</td>\n",
       "      <td>0</td>\n",
       "      <td>0</td>\n",
       "      <td>0</td>\n",
       "      <td>0</td>\n",
       "      <td>0</td>\n",
       "      <td>0</td>\n",
       "      <td>0</td>\n",
       "      <td>0</td>\n",
       "      <td>0</td>\n",
       "      <td>...</td>\n",
       "      <td>0</td>\n",
       "      <td>0</td>\n",
       "      <td>0</td>\n",
       "      <td>0</td>\n",
       "      <td>0</td>\n",
       "      <td>0</td>\n",
       "      <td>0</td>\n",
       "      <td>0</td>\n",
       "      <td>0</td>\n",
       "      <td>0</td>\n",
       "    </tr>\n",
       "    <tr>\n",
       "      <th>2</th>\n",
       "      <td>1</td>\n",
       "      <td>0</td>\n",
       "      <td>0</td>\n",
       "      <td>0</td>\n",
       "      <td>0</td>\n",
       "      <td>0</td>\n",
       "      <td>0</td>\n",
       "      <td>0</td>\n",
       "      <td>0</td>\n",
       "      <td>0</td>\n",
       "      <td>...</td>\n",
       "      <td>0</td>\n",
       "      <td>0</td>\n",
       "      <td>0</td>\n",
       "      <td>0</td>\n",
       "      <td>0</td>\n",
       "      <td>0</td>\n",
       "      <td>0</td>\n",
       "      <td>0</td>\n",
       "      <td>0</td>\n",
       "      <td>0</td>\n",
       "    </tr>\n",
       "    <tr>\n",
       "      <th>3</th>\n",
       "      <td>4</td>\n",
       "      <td>0</td>\n",
       "      <td>0</td>\n",
       "      <td>0</td>\n",
       "      <td>0</td>\n",
       "      <td>0</td>\n",
       "      <td>0</td>\n",
       "      <td>0</td>\n",
       "      <td>0</td>\n",
       "      <td>0</td>\n",
       "      <td>...</td>\n",
       "      <td>0</td>\n",
       "      <td>0</td>\n",
       "      <td>0</td>\n",
       "      <td>0</td>\n",
       "      <td>0</td>\n",
       "      <td>0</td>\n",
       "      <td>0</td>\n",
       "      <td>0</td>\n",
       "      <td>0</td>\n",
       "      <td>0</td>\n",
       "    </tr>\n",
       "    <tr>\n",
       "      <th>4</th>\n",
       "      <td>0</td>\n",
       "      <td>0</td>\n",
       "      <td>0</td>\n",
       "      <td>0</td>\n",
       "      <td>0</td>\n",
       "      <td>0</td>\n",
       "      <td>0</td>\n",
       "      <td>0</td>\n",
       "      <td>0</td>\n",
       "      <td>0</td>\n",
       "      <td>...</td>\n",
       "      <td>0</td>\n",
       "      <td>0</td>\n",
       "      <td>0</td>\n",
       "      <td>0</td>\n",
       "      <td>0</td>\n",
       "      <td>0</td>\n",
       "      <td>0</td>\n",
       "      <td>0</td>\n",
       "      <td>0</td>\n",
       "      <td>0</td>\n",
       "    </tr>\n",
       "  </tbody>\n",
       "</table>\n",
       "<p>5 rows × 785 columns</p>\n",
       "</div>"
      ],
      "text/plain": [
       "   label  pixel0  pixel1  pixel2  pixel3  pixel4  pixel5  pixel6  pixel7  \\\n",
       "0      1       0       0       0       0       0       0       0       0   \n",
       "1      0       0       0       0       0       0       0       0       0   \n",
       "2      1       0       0       0       0       0       0       0       0   \n",
       "3      4       0       0       0       0       0       0       0       0   \n",
       "4      0       0       0       0       0       0       0       0       0   \n",
       "\n",
       "   pixel8    ...     pixel774  pixel775  pixel776  pixel777  pixel778  \\\n",
       "0       0    ...            0         0         0         0         0   \n",
       "1       0    ...            0         0         0         0         0   \n",
       "2       0    ...            0         0         0         0         0   \n",
       "3       0    ...            0         0         0         0         0   \n",
       "4       0    ...            0         0         0         0         0   \n",
       "\n",
       "   pixel779  pixel780  pixel781  pixel782  pixel783  \n",
       "0         0         0         0         0         0  \n",
       "1         0         0         0         0         0  \n",
       "2         0         0         0         0         0  \n",
       "3         0         0         0         0         0  \n",
       "4         0         0         0         0         0  \n",
       "\n",
       "[5 rows x 785 columns]"
      ]
     },
     "execution_count": 3,
     "metadata": {},
     "output_type": "execute_result"
    }
   ],
   "source": [
    "train.head()"
   ]
  },
  {
   "cell_type": "code",
   "execution_count": 4,
   "metadata": {},
   "outputs": [
    {
     "data": {
      "text/html": [
       "<div>\n",
       "<style scoped>\n",
       "    .dataframe tbody tr th:only-of-type {\n",
       "        vertical-align: middle;\n",
       "    }\n",
       "\n",
       "    .dataframe tbody tr th {\n",
       "        vertical-align: top;\n",
       "    }\n",
       "\n",
       "    .dataframe thead th {\n",
       "        text-align: right;\n",
       "    }\n",
       "</style>\n",
       "<table border=\"1\" class=\"dataframe\">\n",
       "  <thead>\n",
       "    <tr style=\"text-align: right;\">\n",
       "      <th></th>\n",
       "      <th>pixel0</th>\n",
       "      <th>pixel1</th>\n",
       "      <th>pixel2</th>\n",
       "      <th>pixel3</th>\n",
       "      <th>pixel4</th>\n",
       "      <th>pixel5</th>\n",
       "      <th>pixel6</th>\n",
       "      <th>pixel7</th>\n",
       "      <th>pixel8</th>\n",
       "      <th>pixel9</th>\n",
       "      <th>...</th>\n",
       "      <th>pixel774</th>\n",
       "      <th>pixel775</th>\n",
       "      <th>pixel776</th>\n",
       "      <th>pixel777</th>\n",
       "      <th>pixel778</th>\n",
       "      <th>pixel779</th>\n",
       "      <th>pixel780</th>\n",
       "      <th>pixel781</th>\n",
       "      <th>pixel782</th>\n",
       "      <th>pixel783</th>\n",
       "    </tr>\n",
       "  </thead>\n",
       "  <tbody>\n",
       "    <tr>\n",
       "      <th>0</th>\n",
       "      <td>0</td>\n",
       "      <td>0</td>\n",
       "      <td>0</td>\n",
       "      <td>0</td>\n",
       "      <td>0</td>\n",
       "      <td>0</td>\n",
       "      <td>0</td>\n",
       "      <td>0</td>\n",
       "      <td>0</td>\n",
       "      <td>0</td>\n",
       "      <td>...</td>\n",
       "      <td>0</td>\n",
       "      <td>0</td>\n",
       "      <td>0</td>\n",
       "      <td>0</td>\n",
       "      <td>0</td>\n",
       "      <td>0</td>\n",
       "      <td>0</td>\n",
       "      <td>0</td>\n",
       "      <td>0</td>\n",
       "      <td>0</td>\n",
       "    </tr>\n",
       "    <tr>\n",
       "      <th>1</th>\n",
       "      <td>0</td>\n",
       "      <td>0</td>\n",
       "      <td>0</td>\n",
       "      <td>0</td>\n",
       "      <td>0</td>\n",
       "      <td>0</td>\n",
       "      <td>0</td>\n",
       "      <td>0</td>\n",
       "      <td>0</td>\n",
       "      <td>0</td>\n",
       "      <td>...</td>\n",
       "      <td>0</td>\n",
       "      <td>0</td>\n",
       "      <td>0</td>\n",
       "      <td>0</td>\n",
       "      <td>0</td>\n",
       "      <td>0</td>\n",
       "      <td>0</td>\n",
       "      <td>0</td>\n",
       "      <td>0</td>\n",
       "      <td>0</td>\n",
       "    </tr>\n",
       "    <tr>\n",
       "      <th>2</th>\n",
       "      <td>0</td>\n",
       "      <td>0</td>\n",
       "      <td>0</td>\n",
       "      <td>0</td>\n",
       "      <td>0</td>\n",
       "      <td>0</td>\n",
       "      <td>0</td>\n",
       "      <td>0</td>\n",
       "      <td>0</td>\n",
       "      <td>0</td>\n",
       "      <td>...</td>\n",
       "      <td>0</td>\n",
       "      <td>0</td>\n",
       "      <td>0</td>\n",
       "      <td>0</td>\n",
       "      <td>0</td>\n",
       "      <td>0</td>\n",
       "      <td>0</td>\n",
       "      <td>0</td>\n",
       "      <td>0</td>\n",
       "      <td>0</td>\n",
       "    </tr>\n",
       "    <tr>\n",
       "      <th>3</th>\n",
       "      <td>0</td>\n",
       "      <td>0</td>\n",
       "      <td>0</td>\n",
       "      <td>0</td>\n",
       "      <td>0</td>\n",
       "      <td>0</td>\n",
       "      <td>0</td>\n",
       "      <td>0</td>\n",
       "      <td>0</td>\n",
       "      <td>0</td>\n",
       "      <td>...</td>\n",
       "      <td>0</td>\n",
       "      <td>0</td>\n",
       "      <td>0</td>\n",
       "      <td>0</td>\n",
       "      <td>0</td>\n",
       "      <td>0</td>\n",
       "      <td>0</td>\n",
       "      <td>0</td>\n",
       "      <td>0</td>\n",
       "      <td>0</td>\n",
       "    </tr>\n",
       "    <tr>\n",
       "      <th>4</th>\n",
       "      <td>0</td>\n",
       "      <td>0</td>\n",
       "      <td>0</td>\n",
       "      <td>0</td>\n",
       "      <td>0</td>\n",
       "      <td>0</td>\n",
       "      <td>0</td>\n",
       "      <td>0</td>\n",
       "      <td>0</td>\n",
       "      <td>0</td>\n",
       "      <td>...</td>\n",
       "      <td>0</td>\n",
       "      <td>0</td>\n",
       "      <td>0</td>\n",
       "      <td>0</td>\n",
       "      <td>0</td>\n",
       "      <td>0</td>\n",
       "      <td>0</td>\n",
       "      <td>0</td>\n",
       "      <td>0</td>\n",
       "      <td>0</td>\n",
       "    </tr>\n",
       "  </tbody>\n",
       "</table>\n",
       "<p>5 rows × 784 columns</p>\n",
       "</div>"
      ],
      "text/plain": [
       "   pixel0  pixel1  pixel2  pixel3  pixel4  pixel5  pixel6  pixel7  pixel8  \\\n",
       "0       0       0       0       0       0       0       0       0       0   \n",
       "1       0       0       0       0       0       0       0       0       0   \n",
       "2       0       0       0       0       0       0       0       0       0   \n",
       "3       0       0       0       0       0       0       0       0       0   \n",
       "4       0       0       0       0       0       0       0       0       0   \n",
       "\n",
       "   pixel9    ...     pixel774  pixel775  pixel776  pixel777  pixel778  \\\n",
       "0       0    ...            0         0         0         0         0   \n",
       "1       0    ...            0         0         0         0         0   \n",
       "2       0    ...            0         0         0         0         0   \n",
       "3       0    ...            0         0         0         0         0   \n",
       "4       0    ...            0         0         0         0         0   \n",
       "\n",
       "   pixel779  pixel780  pixel781  pixel782  pixel783  \n",
       "0         0         0         0         0         0  \n",
       "1         0         0         0         0         0  \n",
       "2         0         0         0         0         0  \n",
       "3         0         0         0         0         0  \n",
       "4         0         0         0         0         0  \n",
       "\n",
       "[5 rows x 784 columns]"
      ]
     },
     "execution_count": 4,
     "metadata": {},
     "output_type": "execute_result"
    }
   ],
   "source": [
    "test.head()"
   ]
  },
  {
   "cell_type": "code",
   "execution_count": 5,
   "metadata": {},
   "outputs": [
    {
     "data": {
      "text/plain": [
       "1    4684\n",
       "7    4401\n",
       "3    4351\n",
       "9    4188\n",
       "2    4177\n",
       "6    4137\n",
       "0    4132\n",
       "4    4072\n",
       "8    4063\n",
       "5    3795\n",
       "Name: label, dtype: int64"
      ]
     },
     "execution_count": 5,
     "metadata": {},
     "output_type": "execute_result"
    },
    {
     "data": {
      "image/png": "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\n",
      "text/plain": [
       "<Figure size 432x288 with 1 Axes>"
      ]
     },
     "metadata": {
      "needs_background": "light"
     },
     "output_type": "display_data"
    }
   ],
   "source": [
    "y_train = train['label']\n",
    "x_train = train.drop(labels = ['label'], axis = 1)\n",
    "\n",
    "g = sns.countplot(y_train)\n",
    "\n",
    "y_train.value_counts()"
   ]
  },
  {
   "cell_type": "markdown",
   "metadata": {},
   "source": [
    "## 1.2 check for Missing values"
   ]
  },
  {
   "cell_type": "code",
   "execution_count": 6,
   "metadata": {},
   "outputs": [
    {
     "data": {
      "text/plain": [
       "count       784\n",
       "unique        1\n",
       "top       False\n",
       "freq        784\n",
       "dtype: object"
      ]
     },
     "execution_count": 6,
     "metadata": {},
     "output_type": "execute_result"
    }
   ],
   "source": [
    "x_train.isnull().any().describe()"
   ]
  },
  {
   "cell_type": "code",
   "execution_count": 7,
   "metadata": {},
   "outputs": [
    {
     "data": {
      "text/plain": [
       "count       784\n",
       "unique        1\n",
       "top       False\n",
       "freq        784\n",
       "dtype: object"
      ]
     },
     "execution_count": 7,
     "metadata": {},
     "output_type": "execute_result"
    }
   ],
   "source": [
    "test.isnull().any().describe()"
   ]
  },
  {
   "cell_type": "markdown",
   "metadata": {},
   "source": [
    "## 1.3 Normalization\n",
    "**The data files contain gray-scale images of digits. We can divide them by 255.0 to normalize the data**"
   ]
  },
  {
   "cell_type": "code",
   "execution_count": 8,
   "metadata": {},
   "outputs": [],
   "source": [
    "x_train = x_train / 255.0\n",
    "test = test / 255.0"
   ]
  },
  {
   "cell_type": "code",
   "execution_count": 9,
   "metadata": {},
   "outputs": [],
   "source": [
    "# Reshape image in 3 dimensions (height = 28px, width = 28px , canal = 1)\n",
    "x_train = x_train.values.reshape(-1,28,28,1)\n",
    "test = test.values.reshape(-1,28,28,1)"
   ]
  },
  {
   "cell_type": "markdown",
   "metadata": {},
   "source": [
    "## 1.4 One hot label encoding"
   ]
  },
  {
   "cell_type": "code",
   "execution_count": 10,
   "metadata": {},
   "outputs": [],
   "source": [
    "y_train = to_categorical(y_train, num_classes = 10)"
   ]
  },
  {
   "cell_type": "markdown",
   "metadata": {},
   "source": [
    "## 1.5 Split training and validation dataset"
   ]
  },
  {
   "cell_type": "code",
   "execution_count": 11,
   "metadata": {},
   "outputs": [],
   "source": [
    "random_seed = 43\n",
    "x_train, x_val, y_train, y_val = train_test_split(x_train, y_train, test_size = 0.2, random_state=random_seed)"
   ]
  },
  {
   "cell_type": "code",
   "execution_count": 12,
   "metadata": {},
   "outputs": [
    {
     "data": {
      "image/png": "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\n",
      "text/plain": [
       "<Figure size 432x288 with 1 Axes>"
      ]
     },
     "metadata": {
      "needs_background": "light"
     },
     "output_type": "display_data"
    }
   ],
   "source": [
    "g = plt.imshow(x_train[5][:,:,0], cmap='gray')"
   ]
  },
  {
   "cell_type": "markdown",
   "metadata": {},
   "source": [
    "# 2. CNN\n",
    "## 2.1 Define the model"
   ]
  },
  {
   "cell_type": "code",
   "execution_count": 13,
   "metadata": {},
   "outputs": [],
   "source": [
    "# Set the CNN model \n",
    "# my CNN architechture is [[Conv2D->relu]*2 -> MaxPool2D -> Dropout]*2 -> Flatten -> Dense -> Dropout -> Out\n",
    "\n",
    "model = Sequential()\n",
    "\n",
    "model.add(Conv2D(filters = 32, kernel_size = (5,5),padding = 'Same', \n",
    "                 activation ='relu', input_shape = (28,28,1)))\n",
    "model.add(Conv2D(filters = 32, kernel_size = (5,5),padding = 'Same', \n",
    "                 activation ='relu'))\n",
    "model.add(MaxPool2D(pool_size=(2,2)))\n",
    "model.add(Dropout(0.25))\n",
    "\n",
    "\n",
    "model.add(Conv2D(filters = 64, kernel_size = (3,3),padding = 'Same', \n",
    "                 activation ='relu'))\n",
    "model.add(Conv2D(filters = 64, kernel_size = (3,3),padding = 'Same', \n",
    "                 activation ='relu'))\n",
    "model.add(MaxPool2D(pool_size=(2,2), strides=(2,2)))\n",
    "model.add(Dropout(0.25))\n",
    "\n",
    "\n",
    "model.add(Flatten())  # convert the final feature maps into a one single 1D vector\n",
    "model.add(Dense(256, activation = \"relu\"))\n",
    "model.add(Dropout(0.5))\n",
    "model.add(Dense(10, activation = \"softmax\"))"
   ]
  },
  {
   "cell_type": "code",
   "execution_count": 14,
   "metadata": {},
   "outputs": [],
   "source": [
    "# Define the optimizer\n",
    "optimizer = RMSprop(lr=0.001, rho=0.9, epsilon=1e-08, decay=0.0)"
   ]
  },
  {
   "cell_type": "code",
   "execution_count": 15,
   "metadata": {},
   "outputs": [],
   "source": [
    "# Compile the model\n",
    "model.compile(optimizer = optimizer , loss = \"categorical_crossentropy\", metrics=[\"accuracy\"])"
   ]
  },
  {
   "cell_type": "code",
   "execution_count": 16,
   "metadata": {},
   "outputs": [],
   "source": [
    "# Set a learning rate annealer\n",
    "# reduce the LR by half if the accuracy is not improved after 3 epochs.\n",
    "learning_rate_reduction = ReduceLROnPlateau(monitor='val_acc', \n",
    "                                            patience=3, \n",
    "                                            verbose=1, \n",
    "                                            factor=0.5, \n",
    "                                            min_lr=0.00001)"
   ]
  },
  {
   "cell_type": "code",
   "execution_count": 17,
   "metadata": {},
   "outputs": [],
   "source": [
    "epochs = 30\n",
    "batch_size = 86"
   ]
  },
  {
   "cell_type": "markdown",
   "metadata": {},
   "source": [
    "## 2.2 Data augmentation\n",
    "**Expand the dataset to avoid overfitting problem**  \n",
    "**Randomly rotate, zoom and shift the images to add some variations in dataset**"
   ]
  },
  {
   "cell_type": "code",
   "execution_count": 18,
   "metadata": {},
   "outputs": [],
   "source": [
    "datagen = ImageDataGenerator(\n",
    "        featurewise_center=False,  # set input mean to 0 over the dataset\n",
    "        samplewise_center=False,  # set each sample mean to 0\n",
    "        featurewise_std_normalization=False,  # divide inputs by std of the dataset\n",
    "        samplewise_std_normalization=False,  # divide each input by its std\n",
    "        zca_whitening=False,  # apply ZCA whitening\n",
    "        rotation_range=10,  # randomly rotate images in the range (degrees, 0 to 180)\n",
    "        zoom_range = 0.1, # Randomly zoom image \n",
    "        width_shift_range=0.1,  # randomly shift images horizontally (fraction of total width)\n",
    "        height_shift_range=0.1,  # randomly shift images vertically (fraction of total height)\n",
    "        horizontal_flip=False,  # randomly flip images\n",
    "        vertical_flip=False)  # randomly flip images\n",
    "\n",
    "\n",
    "datagen.fit(x_train)"
   ]
  },
  {
   "cell_type": "code",
   "execution_count": 19,
   "metadata": {},
   "outputs": [
    {
     "name": "stdout",
     "output_type": "stream",
     "text": [
      "Epoch 1/30\n",
      " - 12s - loss: 0.4390 - acc: 0.8580 - val_loss: 0.1038 - val_acc: 0.9656\n",
      "Epoch 2/30\n",
      " - 9s - loss: 0.1383 - acc: 0.9590 - val_loss: 0.0545 - val_acc: 0.9842\n",
      "Epoch 3/30\n",
      " - 8s - loss: 0.1012 - acc: 0.9692 - val_loss: 0.0414 - val_acc: 0.9870\n",
      "Epoch 4/30\n",
      " - 8s - loss: 0.0873 - acc: 0.9738 - val_loss: 0.0447 - val_acc: 0.9870\n",
      "Epoch 5/30\n",
      " - 8s - loss: 0.0729 - acc: 0.9788 - val_loss: 0.0367 - val_acc: 0.9892\n",
      "Epoch 6/30\n",
      " - 8s - loss: 0.0688 - acc: 0.9798 - val_loss: 0.0380 - val_acc: 0.9890\n",
      "Epoch 7/30\n",
      " - 8s - loss: 0.0637 - acc: 0.9813 - val_loss: 0.0295 - val_acc: 0.9911\n",
      "Epoch 8/30\n",
      " - 8s - loss: 0.0617 - acc: 0.9828 - val_loss: 0.0302 - val_acc: 0.9914\n",
      "Epoch 9/30\n",
      " - 8s - loss: 0.0628 - acc: 0.9817 - val_loss: 0.0274 - val_acc: 0.9927\n",
      "Epoch 10/30\n",
      " - 8s - loss: 0.0594 - acc: 0.9824 - val_loss: 0.0312 - val_acc: 0.9907\n",
      "Epoch 11/30\n",
      " - 8s - loss: 0.0566 - acc: 0.9836 - val_loss: 0.0393 - val_acc: 0.9881\n",
      "Epoch 12/30\n",
      " - 8s - loss: 0.0532 - acc: 0.9840 - val_loss: 0.0281 - val_acc: 0.9921\n",
      "\n",
      "Epoch 00012: ReduceLROnPlateau reducing learning rate to 0.0005000000237487257.\n",
      "Epoch 13/30\n",
      " - 8s - loss: 0.0464 - acc: 0.9869 - val_loss: 0.0270 - val_acc: 0.9929\n",
      "Epoch 14/30\n",
      " - 8s - loss: 0.0396 - acc: 0.9886 - val_loss: 0.0228 - val_acc: 0.9943\n",
      "Epoch 15/30\n",
      " - 8s - loss: 0.0400 - acc: 0.9883 - val_loss: 0.0238 - val_acc: 0.9937\n",
      "Epoch 16/30\n",
      " - 8s - loss: 0.0421 - acc: 0.9883 - val_loss: 0.0249 - val_acc: 0.9936\n",
      "Epoch 17/30\n",
      " - 8s - loss: 0.0388 - acc: 0.9883 - val_loss: 0.0277 - val_acc: 0.9920\n",
      "\n",
      "Epoch 00017: ReduceLROnPlateau reducing learning rate to 0.0002500000118743628.\n",
      "Epoch 18/30\n",
      " - 8s - loss: 0.0347 - acc: 0.9897 - val_loss: 0.0246 - val_acc: 0.9942\n",
      "Epoch 19/30\n",
      " - 8s - loss: 0.0311 - acc: 0.9911 - val_loss: 0.0260 - val_acc: 0.9936\n",
      "Epoch 20/30\n",
      " - 8s - loss: 0.0326 - acc: 0.9904 - val_loss: 0.0232 - val_acc: 0.9940\n",
      "\n",
      "Epoch 00020: ReduceLROnPlateau reducing learning rate to 0.0001250000059371814.\n",
      "Epoch 21/30\n",
      " - 9s - loss: 0.0307 - acc: 0.9909 - val_loss: 0.0249 - val_acc: 0.9937\n",
      "Epoch 22/30\n",
      " - 9s - loss: 0.0299 - acc: 0.9915 - val_loss: 0.0250 - val_acc: 0.9929\n",
      "Epoch 23/30\n",
      " - 8s - loss: 0.0275 - acc: 0.9911 - val_loss: 0.0233 - val_acc: 0.9942\n",
      "\n",
      "Epoch 00023: ReduceLROnPlateau reducing learning rate to 6.25000029685907e-05.\n",
      "Epoch 24/30\n",
      " - 8s - loss: 0.0295 - acc: 0.9914 - val_loss: 0.0219 - val_acc: 0.9943\n",
      "Epoch 25/30\n",
      " - 8s - loss: 0.0267 - acc: 0.9918 - val_loss: 0.0238 - val_acc: 0.9942\n",
      "Epoch 26/30\n",
      " - 8s - loss: 0.0281 - acc: 0.9917 - val_loss: 0.0229 - val_acc: 0.9942\n",
      "\n",
      "Epoch 00026: ReduceLROnPlateau reducing learning rate to 3.125000148429535e-05.\n",
      "Epoch 27/30\n",
      " - 9s - loss: 0.0259 - acc: 0.9916 - val_loss: 0.0228 - val_acc: 0.9942\n",
      "Epoch 28/30\n",
      " - 9s - loss: 0.0276 - acc: 0.9923 - val_loss: 0.0228 - val_acc: 0.9942\n",
      "Epoch 29/30\n",
      " - 9s - loss: 0.0256 - acc: 0.9925 - val_loss: 0.0240 - val_acc: 0.9940\n",
      "\n",
      "Epoch 00029: ReduceLROnPlateau reducing learning rate to 1.5625000742147677e-05.\n",
      "Epoch 30/30\n",
      " - 9s - loss: 0.0280 - acc: 0.9919 - val_loss: 0.0230 - val_acc: 0.9944\n"
     ]
    }
   ],
   "source": [
    "history = model.fit_generator(datagen.flow(x_train,y_train, batch_size=batch_size),\n",
    "                              epochs = epochs, validation_data = (x_val,y_val),\n",
    "                              verbose = 2, steps_per_epoch=x_train.shape[0] // batch_size\n",
    "                              , callbacks=[learning_rate_reduction])"
   ]
  },
  {
   "cell_type": "markdown",
   "metadata": {},
   "source": [
    "# 3. Evaluation"
   ]
  },
  {
   "cell_type": "code",
   "execution_count": 20,
   "metadata": {},
   "outputs": [
    {
     "data": {
      "image/png": "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\n",
      "text/plain": [
       "<Figure size 432x288 with 2 Axes>"
      ]
     },
     "metadata": {
      "needs_background": "light"
     },
     "output_type": "display_data"
    }
   ],
   "source": [
    "# Plot the loss and accuracy curves for training and validation \n",
    "fig, ax = plt.subplots(2,1)\n",
    "ax[0].plot(history.history['loss'], color='b', label=\"Training loss\")\n",
    "ax[0].plot(history.history['val_loss'], color='r', label=\"validation loss\",axes =ax[0])\n",
    "legend = ax[0].legend(loc='best', shadow=True)\n",
    "\n",
    "ax[1].plot(history.history['acc'], color='b', label=\"Training accuracy\")\n",
    "ax[1].plot(history.history['val_acc'], color='r',label=\"Validation accuracy\")\n",
    "legend = ax[1].legend(loc='best', shadow=True)"
   ]
  },
  {
   "cell_type": "code",
   "execution_count": 21,
   "metadata": {},
   "outputs": [],
   "source": [
    "# Look at confusion matrix \n",
    "\n",
    "def plot_confusion_matrix(cm, classes,\n",
    "                          normalize=False,\n",
    "                          title='Confusion matrix',\n",
    "                          cmap=plt.cm.Blues):\n",
    "    \"\"\"\n",
    "    This function prints and plots the confusion matrix.\n",
    "    Normalization can be applied by setting `normalize=True`.\n",
    "    \"\"\"\n",
    "    plt.imshow(cm, interpolation='nearest', cmap=cmap)\n",
    "    plt.title(title)\n",
    "    plt.colorbar()\n",
    "    tick_marks = np.arange(len(classes))\n",
    "    plt.xticks(tick_marks, classes, rotation=45)\n",
    "    plt.yticks(tick_marks, classes)\n",
    "\n",
    "    if normalize:\n",
    "        cm = cm.astype('float') / cm.sum(axis=1)[:, np.newaxis]\n",
    "\n",
    "    thresh = cm.max() / 2.\n",
    "    for i, j in itertools.product(range(cm.shape[0]), range(cm.shape[1])):\n",
    "        plt.text(j, i, cm[i, j],\n",
    "                 horizontalalignment=\
