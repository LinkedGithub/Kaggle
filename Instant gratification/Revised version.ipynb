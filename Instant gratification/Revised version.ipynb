{
 "cells": [
  {
   "cell_type": "markdown",
   "metadata": {},
   "source": [
    "## Revised version\n",
    "### At the end of this competition, [some kernels](https://www.kaggle.com/cdeotte/3-clusters-per-class-0-975) show that Gaussian Mixture can improve the prediction accuracy from 0.970 to 0.975. Therefore, I revised the previous kernel to add Gaussian Mixture Model."
   ]
  },
  {
   "cell_type": "code",
   "execution_count": 6,
   "metadata": {
    "_cell_guid": "b1076dfc-b9ad-4769-8c92-a6c4dae69d19",
    "_uuid": "8f2839f25d086af736a60e9eeb907d3b93b6e0e5"
   },
   "outputs": [],
   "source": [
    "# Import libraries\n",
    "import numpy as np\n",
    "import pandas as pd\n",
    "from sklearn.model_selection import StratifiedKFold\n",
    "from sklearn.metrics import roc_auc_score\n",
    "from sklearn.preprocessing import StandardScaler\n",
    "from sklearn.feature_selection import VarianceThreshold\n",
    "from sklearn.discriminant_analysis import QuadraticDiscriminantAnalysis, LinearDiscriminantAnalysis\n",
    "from sklearn.pipeline import Pipeline\n",
    "from tqdm import tqdm_notebook\n",
    "import warnings\n",
    "import multiprocessing\n",
    "from scipy.optimize import minimize  \n",
    "import time, os\n",
    "from sklearn.model_selection import GridSearchCV, train_test_split\n",
    "from sklearn.mixture import GaussianMixture\n",
    "\n",
    "warnings.filterwarnings('ignore')"
   ]
  },
  {
   "cell_type": "code",
   "execution_count": 7,
   "metadata": {},
   "outputs": [
    {
     "name": "stdout",
     "output_type": "stream",
     "text": [
      "(262144, 258) (131073, 257)\n"
     ]
    }
   ],
   "source": [
    "# Load the data\n",
    "path = os.getcwd()\n",
    "train = pd.read_csv(path + '/train.csv')\n",
    "test = pd.read_csv(path + '/test.csv')\n",
    "cols = [c for c in train.columns if c not in ['id', 'target', 'wheezy-copper-turtle-magic']]\n",
    "print(train.shape, test.shape)"
   ]
  },
  {
   "cell_type": "markdown",
   "metadata": {},
   "source": [
    "#### The main part of this kernel contains 5 steps:\n",
    "1. Build first QDA model (512 non-linear models with 512 different wheezy-copper-turtle-magic values)\n",
    "2. Apply Pseudo Labeling and build second model\n",
    "3. Apply Gaussian Mixture Model when target == 1 or 0.\n",
    "4. Train the final QDA model with target labels from step 3.\n",
    "5. Predict and submit"
   ]
  },
  {
   "cell_type": "code",
   "execution_count": 8,
   "metadata": {},
   "outputs": [
    {
     "data": {
      "application/vnd.jupyter.widget-view+json": {
       "model_id": "f61d8e7ba5014f4faef283b354c33fee",
       "version_major": 2,
       "version_minor": 0
      },
      "text/plain": [
       "HBox(children=(IntProgress(value=0, max=512), HTML(value='')))"
      ]
     },
     "metadata": {},
     "output_type": "display_data"
    },
    {
     "name": "stdout",
     "output_type": "stream",
     "text": [
      "\n",
      "0.9970209774695118\n"
     ]
    }
   ],
   "source": [
    "preds = np.zeros(len(test))\n",
    "oof = np.zeros(len(train))\n",
    "# 512 models\n",
    "for i in tqdm_notebook(range(512)):\n",
    "\n",
    "    train2 = train[train['wheezy-copper-turtle-magic']==i]\n",
    "    test2 = test[test['wheezy-copper-turtle-magic']==i]\n",
    "    idx1 = train2.index; idx2 = test2.index\n",
    "    train2.reset_index(drop=True,inplace=True)\n",
    "\n",
    "    data = pd.concat([pd.DataFrame(train2[cols]), pd.DataFrame(test2[cols])])\n",
    "    pipe = Pipeline([('vt', VarianceThreshold(threshold=1.5)), ('scaler', StandardScaler())])\n",
    "    data2 = pipe.fit_transform(data[cols])\n",
    "    train3 = data2[:train2.shape[0]]; test3 = data2[train2.shape[0]:]\n",
    "\n",
    "    # Step 1.\n",
    "    clf = QuadraticDiscriminantAnalysis(priors = [0.5,0.5])\n",
    "    clf.fit(train3,train2['target'])\n",
    "    test_pred = clf.predict_proba(test3)[:,1]\n",
    "    \n",
    "    # Step 2\n",
    "    test_pred[test_pred > 0.96] = 1\n",
    "    test_pred[test_pred < 0.04] = 0\n",
    "    index = np.where((test_pred == 1)|(test_pred == 0))\n",
    "    clf.fit(np.concatenate((train3, test3[index]),axis =0), np.concatenate((train2['target'].values,test_pred[index])) )\n",
    "    test_pred = clf.predict_proba(test3)[:,1]\n",
    "    \n",
    "    # Step 3\n",
    "    test_pred = test_pred > np.random.uniform(0,1,len(test_pred)) #randomness\n",
    "    all_y = np.concatenate((train2['target'].values,test_pred))\n",
    "    clusters = np.zeros((len(data2),6))\n",
    "    flag = 1\n",
    "    while flag == 1:\n",
    "        # FIND THREE TARGET=1 CLUSTERS\n",
    "        train4 = data2[ np.argwhere(all_y==1).flatten(), :]\n",
    "        clf_G = GaussianMixture(n_components=3).fit(train4)\n",
    "        clusters[ np.argwhere(all_y==1).flatten(), 3:] = clf_G.predict_proba(train4)\n",
    "        # FIND THREE TARGET=0 CLUSTERS\n",
    "        train4 = data2[ np.argwhere(all_y==0).flatten(), :]\n",
    "        clf_G = GaussianMixture(n_components=3).fit(train4) #randomness\n",
    "        clusters[ np.argwhere(all_y==0).flatten(), :3] = clf_G.predict_proba(train4)\n",
    "        gmm_type = np.argmax(clusters, axis = 1)\n",
    "        if (pd.Series(gmm_type).value_counts().min()) <= 5: # IF IMBALANCED TRY AGAIN\n",
    "            flag = 1\n",
    "        else:\n",
    "            flag = 0\n",
    "    \n",
    "    \n",
    "    # step 4\n",
    "    clf = QuadraticDiscriminantAnalysis(priors = [0.167, 0.167, 0.167, 0.167, 0.167, 0.167])\n",
    "    clf.fit(data2,gmm_type)\n",
    "    pds = clf.predict_proba(test3)\n",
    "    pds_train = clf.predict_proba(train3)\n",
    "    test_pred = pds[:,3]+pds[:,4]+pds[:,5]\n",
    "    train_pred = pds_train[:,3]+pds_train[:,4]+pds_train[:,5]\n",
    "    preds[idx2] += test_pred\n",
    "    oof[idx1] += train_pred\n",
    "    \n",
    "auc = roc_auc_score(train['target'],oof)\n",
    "print(auc)"
   ]
  },
  {
   "cell_type": "code",
   "execution_count": 9,
   "metadata": {},
   "outputs": [],
   "source": [
    "# STEP 5\n",
    "sub = pd.read_csv( path + '/sample_submission.csv')\n",
    "sub['target'] = preds\n",
    "sub.to_csv('submission.csv',index=False)"
   ]
  },
  {
   "cell_type": "code",
   "execution_count": 11,
   "metadata": {},
   "outputs": [
    {
     "data": {
      "image/png": "[encoded data removed]",
      "text/plain": [
       "<Figure size 432x288 with 1 Axes>"
      ]
     },
     "metadata": {
      "needs_background": "light"
     },
     "output_type": "display_data"
    }
   ],
   "source": [
    "import matplotlib.pyplot as plt\n",
    "%matplotlib inline\n",
    "centers = np.array([])\n",
    "for k in range(512):\n",
    "    \n",
    "    # REAL DATA\n",
    "    df_train2 = train[train['wheezy-copper-turtle-magic']==k]\n",
    "    sel = VarianceThreshold(1.5).fit(df_train2.iloc[:,1:-1])\n",
    "    df_train3 = sel.transform(df_train2.iloc[:,1:-1])\n",
    "    X = df_train3\n",
    "    y = df_train2['target'].values\n",
    "    \n",
    "    # COLLECT CENTER COORDINATES\n",
    "    centers = np.append(centers,np.mean(X[ np.argwhere(y==0).flatten() ,:],axis=0))\n",
    "    centers = np.append(centers,np.mean(X[ np.argwhere(y==1).flatten() ,:],axis=0))\n",
    "    \n",
    "# PLOT CENTER COORDINATES\n",
    "plt.hist(centers,bins=100)\n",
    "plt.title('Real Data Variable Means (match clusters=3)')\n",
    "plt.show()"
   ]
  },
  {
   "cell_type": "code",
   "execution_count": null,
   "metadata": {},
   "outputs": [],
   "source": []
  }
 ],
 "metadata": {
  "kernelspec": {
   "display_name": "Python 3",
   "language": "python",
   "name": "python3"
  },
  "language_info": {
   "codemirror_mode": {
    "name": "ipython",
    "version": 3
   },
   "file_extension": ".py",
   "mimetype": "text/x-python",
   "name": "python",
   "nbconvert_exporter": "python",
   "pygments_lexer": "ipython3",
   "version": "3.6.5"
  }
 },
 "nbformat": 4,
 "nbformat_minor": 1
}
